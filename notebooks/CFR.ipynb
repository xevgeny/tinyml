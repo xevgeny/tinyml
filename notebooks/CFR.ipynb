{
 "cells": [
  {
   "cell_type": "markdown",
   "metadata": {},
   "source": [
    "# CFR\n",
    "\n",
    "An Introduction to Counterfactual Regret Minimization\n",
    "\n",
    "Papers: \n",
    "\n",
    "- http://modelai.gettysburg.edu/2013/cfr/cfr.pdf\n",
    "- https://poker.cs.ualberta.ca/publications/NIPS07-cfr.pdf"
   ]
  },
  {
   "cell_type": "code",
   "execution_count": 49,
   "metadata": {},
   "outputs": [],
   "source": [
    "import numpy as np\n",
    "import matplotlib.pyplot as plt\n",
    "\n",
    "np.set_printoptions(suppress=True)"
   ]
  },
  {
   "cell_type": "markdown",
   "metadata": {},
   "source": [
    "## Game of Rock, Paper, Scissors"
   ]
  },
  {
   "cell_type": "code",
   "execution_count": 79,
   "metadata": {},
   "outputs": [],
   "source": [
    "N = 3\n",
    "\n",
    "\n",
    "# Utility Matrix\n",
    "# 0 - Rock, 1 - Paper, 2 - Scissors\n",
    "def utility(p1, p2):\n",
    "    if p1 == p2:\n",
    "        return 0\n",
    "    elif (p1 + 1) % N == p2:\n",
    "        return -1\n",
    "    else:\n",
    "        return 1\n",
    "\n",
    "\n",
    "def normalize(strategy):\n",
    "    normSum = np.sum(strategy)\n",
    "    return strategy / normSum if normSum > 0 else np.array(N * [1 / N], dtype=np.float64)\n",
    "\n",
    "\n",
    "# get current strategy through regret-matching\n",
    "def getStrategy(regretSum):\n",
    "    strategy = np.maximum(regretSum, 0)\n",
    "    return normalize(strategy)\n",
    "\n",
    "\n",
    "# get random action based on mixed strategy\n",
    "def getAction(strategy):\n",
    "    return np.random.choice(N, p=strategy)\n",
    "\n",
    "\n",
    "def getActionUtility(otherAction):\n",
    "    actionUtility = np.zeros(N, dtype=np.float64)\n",
    "    actionUtility[otherAction] = 0\n",
    "    actionUtility[(otherAction + 1) % N] = 1\n",
    "    actionUtility[(otherAction - 1) % N] = -1\n",
    "    return actionUtility"
   ]
  },
  {
   "cell_type": "markdown",
   "metadata": {},
   "source": [
    "## RPS: CFR vs. Fixed Strategy"
   ]
  },
  {
   "cell_type": "code",
   "execution_count": 77,
   "metadata": {},
   "outputs": [
    {
     "data": {
      "image/png": "[encoded data removed]",
      "text/plain": [
       "<Figure size 640x480 with 1 Axes>"
      ]
     },
     "metadata": {},
     "output_type": "display_data"
    }
   ],
   "source": [
    "class RPSTrainer:\n",
    "    def __init__(self):\n",
    "        self.regretSum = np.zeros(N, dtype=np.float64)\n",
    "        self.strategy = np.zeros(N, dtype=np.float64)\n",
    "        self.strategySum = np.zeros(N, dtype=np.float64)\n",
    "        self.oppStrategy = np.array([0.4, 0.3, 0.3], dtype=np.float64)\n",
    "\n",
    "    def train(self, iterations):\n",
    "        actionUtility = np.zeros(N, dtype=np.float64)\n",
    "        for _ in range(iterations):\n",
    "            # get regret-matched mixed-strategy actions\n",
    "            self.strategy = getStrategy(self.regretSum)\n",
    "            myAction = getAction(self.strategy)\n",
    "            otherAction = getAction(self.oppStrategy)\n",
    "\n",
    "            # compute action utilities\n",
    "            actionUtility[otherAction] = 0\n",
    "            actionUtility[(otherAction + 1) % N] = 1\n",
    "            actionUtility[(otherAction - 1) % N] = -1\n",
    "\n",
    "            # accumulate regrets and strategy\n",
    "            self.regretSum += actionUtility - actionUtility[myAction]\n",
    "            self.strategySum += self.strategy\n",
    "\n",
    "    def getAverageStrategy(self):\n",
    "        return normalize(self.strategySum).copy()\n",
    "\n",
    "\n",
    "trainer = RPSTrainer()\n",
    "res = []\n",
    "for i in range(100):\n",
    "    trainer.train(10)\n",
    "    res.append(trainer.getAverageStrategy())\n",
    "res = np.array(res)\n",
    "\n",
    "plt.plot(res[:, 0], label='Rock')\n",
    "plt.plot(res[:, 1], label='Paper')\n",
    "plt.plot(res[:, 2], label='Scissors')\n",
    "plt.title('CFR vs. Fixed Strategy')\n",
    "plt.legend()\n",
    "plt.show()\n"
   ]
  },
  {
   "cell_type": "markdown",
   "metadata": {},
   "source": [
    "## RPS: CFR vs. CFR"
   ]
  },
  {
   "cell_type": "code",
   "execution_count": 103,
   "metadata": {},
   "outputs": [],
   "source": [
    "class RPSTrainer2:\n",
    "    def __init__(self):\n",
    "        # Player 1\n",
    "        self.regretSum1 = np.zeros(N, dtype=np.float64)\n",
    "        self.strategy1 = np.zeros(N, dtype=np.float64)\n",
    "        self.strategySum1 = np.zeros(N, dtype=np.float64)\n",
    "\n",
    "        # Player 2\n",
    "        self.regretSum2 = np.zeros(N, dtype=np.float64)\n",
    "        self.strategy2 = np.zeros(N, dtype=np.float64)\n",
    "        self.strategySum2 = np.zeros(N, dtype=np.float64)\n",
    "\n",
    "    def train(self, iterations):\n",
    "        for i in range(iterations):\n",
    "            self.strategy1 = getStrategy(self.regretSum1)\n",
    "            self.strategy2 = getStrategy(self.regretSum2)\n",
    "\n",
    "            action1 = getAction(self.strategy1)\n",
    "            action2 = getAction(self.strategy2)\n",
    "\n",
    "            actionUtility1 = getActionUtility(action2)\n",
    "            actionUtility2 = getActionUtility(action1)\n",
    "\n",
    "            self.regretSum1 += actionUtility1 - actionUtility1[action1]\n",
    "            self.regretSum2 += actionUtility2 - actionUtility2[action2]\n",
    "\n",
    "            self.strategySum1 += self.strategy1\n",
    "            self.strategySum2 += self.strategy2\n",
    "\n",
    "    def getAverageStrategy1(self):\n",
    "        return normalize(self.strategySum1).copy()\n",
    "\n",
    "    def getAverageStrategy2(self):\n",
    "        return normalize(self.strategySum2).copy()\n",
    "\n",
    "\n",
    "trainer = RPSTrainer2()\n",
    "res = []\n",
    "for i in range(10):\n",
    "    trainer.train(1)\n",
    "    res.append(trainer.getAverageStrategy1())\n",
    "res = np.array(res)"
   ]
  }
 ],
 "metadata": {
  "kernelspec": {
   "display_name": "tinyml-u_Rjf_SE-py3.10",
   "language": "python",
   "name": "python3"
  },
  "language_info": {
   "codemirror_mode": {
    "name": "ipython",
    "version": 3
   },
   "file_extension": ".py",
   "mimetype": "text/x-python",
   "name": "python",
   "nbconvert_exporter": "python",
   "pygments_lexer": "ipython3",
   "version": "3.10.9"
  },
  "orig_nbformat": 4
 },
 "nbformat": 4,
 "nbformat_minor": 2
}
