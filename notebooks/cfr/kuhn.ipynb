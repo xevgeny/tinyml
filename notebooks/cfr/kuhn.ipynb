{
 "cells": [
  {
   "cell_type": "markdown",
   "metadata": {},
   "source": [
    "# Kuhn Poker"
   ]
  },
  {
   "cell_type": "code",
   "execution_count": 103,
   "metadata": {},
   "outputs": [],
   "source": [
    "import numpy as np\n",
    "import random\n",
    "\n",
    "NUM_ACTIONS = 2\n",
    "\n",
    "deck = [\"K\", \"Q\", \"J\"]\n",
    "\n",
    "\n",
    "# Durstenfeld version of the Fisher-Yates shuffle\n",
    "def shuffle():\n",
    "    for c1 in range(len(deck) - 1, 1, -1):\n",
    "        c2 = random.randint(0, c1)\n",
    "        tmp = deck[c1]\n",
    "        deck[c1] = deck[c2]\n",
    "        deck[c2] = tmp\n",
    "\n",
    "\n",
    "class Node:\n",
    "    def __init__(self):\n",
    "        self.regretSum = np.zeros(NUM_ACTIONS, dtype=np.float64)\n",
    "        self.strategy = np.zeros(NUM_ACTIONS, dtype=np.float64)\n",
    "        self.strategySum = np.zeros(NUM_ACTIONS, dtype=np.float64)"
   ]
  }
 ],
 "metadata": {
  "kernelspec": {
   "display_name": "tinyml-u_Rjf_SE-py3.10",
   "language": "python",
   "name": "python3"
  },
  "language_info": {
   "codemirror_mode": {
    "name": "ipython",
    "version": 3
   },
   "file_extension": ".py",
   "mimetype": "text/x-python",
   "name": "python",
   "nbconvert_exporter": "python",
   "pygments_lexer": "ipython3",
   "version": "3.10.9"
  },
  "orig_nbformat": 4
 },
 "nbformat": 4,
 "nbformat_minor": 2
}
